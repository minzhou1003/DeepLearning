{
 "cells": [
  {
   "cell_type": "code",
   "execution_count": 1,
   "metadata": {},
   "outputs": [
    {
     "name": "stderr",
     "output_type": "stream",
     "text": [
      "/Users/jasminezhou/anaconda/envs/tensorflow/lib/python3.6/site-packages/sklearn/cross_validation.py:41: DeprecationWarning: This module was deprecated in version 0.18 in favor of the model_selection module into which all the refactored classes and functions are moved. Also note that the interface of the new CV iterators are different from that of this module. This module will be removed in 0.20.\n",
      "  \"This module will be removed in 0.20.\", DeprecationWarning)\n"
     ]
    }
   ],
   "source": [
    "import pandas as pd\n",
    "import numpy as np\n",
    "from sklearn import preprocessing\n",
    "import matplotlib.pyplot as plt \n",
    "plt.rc(\"font\", size=14)\n",
    "from sklearn.linear_model import LogisticRegression\n",
    "from sklearn.cross_validation import train_test_split\n",
    "import seaborn as sns\n",
    "sns.set(style=\"white\")\n",
    "sns.set(style=\"whitegrid\", color_codes=True)"
   ]
  },
  {
   "cell_type": "markdown",
   "metadata": {},
   "source": [
    "## Preprocessing data"
   ]
  },
  {
   "cell_type": "code",
   "execution_count": 2,
   "metadata": {},
   "outputs": [
    {
     "name": "stdout",
     "output_type": "stream",
     "text": [
      "(50000, 10)\n",
      "['ID', 'Region', 'Date', 'Weekday', 'Apartment', 'Beds', 'Review', 'Pic Quality', 'Price', 'Accept']\n"
     ]
    }
   ],
   "source": [
    "# import data\n",
    "training_data = pd.read_csv('case2_training.csv', header=0)\n",
    "training_data = training_data.dropna() # Return object with labels on given axis omitted where alternately any or all of the data are missing\n",
    "print(training_data.shape)\n",
    "print(list(training_data.columns))"
   ]
  },
  {
   "cell_type": "code",
   "execution_count": 3,
   "metadata": {},
   "outputs": [
    {
     "data": {
      "text/html": [
       "<div>\n",
       "<style scoped>\n",
       "    .dataframe tbody tr th:only-of-type {\n",
       "        vertical-align: middle;\n",
       "    }\n",
       "\n",
       "    .dataframe tbody tr th {\n",
       "        vertical-align: top;\n",
       "    }\n",
       "\n",
       "    .dataframe thead th {\n",
       "        text-align: right;\n",
       "    }\n",
       "</style>\n",
       "<table border=\"1\" class=\"dataframe\">\n",
       "  <thead>\n",
       "    <tr style=\"text-align: right;\">\n",
       "      <th></th>\n",
       "      <th>ID</th>\n",
       "      <th>Region</th>\n",
       "      <th>Date</th>\n",
       "      <th>Weekday</th>\n",
       "      <th>Apartment</th>\n",
       "      <th>Beds</th>\n",
       "      <th>Review</th>\n",
       "      <th>Pic Quality</th>\n",
       "      <th>Price</th>\n",
       "      <th>Accept</th>\n",
       "    </tr>\n",
       "  </thead>\n",
       "  <tbody>\n",
       "    <tr>\n",
       "      <th>0</th>\n",
       "      <td>1</td>\n",
       "      <td>4</td>\n",
       "      <td>32</td>\n",
       "      <td>5</td>\n",
       "      <td>1</td>\n",
       "      <td>1</td>\n",
       "      <td>4.526975</td>\n",
       "      <td>0.739994</td>\n",
       "      <td>230.552998</td>\n",
       "      <td>0</td>\n",
       "    </tr>\n",
       "    <tr>\n",
       "      <th>1</th>\n",
       "      <td>2</td>\n",
       "      <td>2</td>\n",
       "      <td>87</td>\n",
       "      <td>4</td>\n",
       "      <td>1</td>\n",
       "      <td>1</td>\n",
       "      <td>4.548455</td>\n",
       "      <td>0.862642</td>\n",
       "      <td>348.203425</td>\n",
       "      <td>0</td>\n",
       "    </tr>\n",
       "    <tr>\n",
       "      <th>2</th>\n",
       "      <td>3</td>\n",
       "      <td>5</td>\n",
       "      <td>277</td>\n",
       "      <td>5</td>\n",
       "      <td>1</td>\n",
       "      <td>2</td>\n",
       "      <td>4.965732</td>\n",
       "      <td>0.515548</td>\n",
       "      <td>430.462327</td>\n",
       "      <td>0</td>\n",
       "    </tr>\n",
       "    <tr>\n",
       "      <th>3</th>\n",
       "      <td>4</td>\n",
       "      <td>3</td>\n",
       "      <td>246</td>\n",
       "      <td>2</td>\n",
       "      <td>1</td>\n",
       "      <td>1</td>\n",
       "      <td>4.752735</td>\n",
       "      <td>0.561547</td>\n",
       "      <td>149.305433</td>\n",
       "      <td>1</td>\n",
       "    </tr>\n",
       "    <tr>\n",
       "      <th>4</th>\n",
       "      <td>5</td>\n",
       "      <td>1</td>\n",
       "      <td>155</td>\n",
       "      <td>2</td>\n",
       "      <td>1</td>\n",
       "      <td>2</td>\n",
       "      <td>3.890960</td>\n",
       "      <td>0.817142</td>\n",
       "      <td>165.264184</td>\n",
       "      <td>1</td>\n",
       "    </tr>\n",
       "  </tbody>\n",
       "</table>\n",
       "</div>"
      ],
      "text/plain": [
       "   ID  Region  Date  Weekday  Apartment  Beds    Review  Pic Quality  \\\n",
       "0   1       4    32        5          1     1  4.526975     0.739994   \n",
       "1   2       2    87        4          1     1  4.548455     0.862642   \n",
       "2   3       5   277        5          1     2  4.965732     0.515548   \n",
       "3   4       3   246        2          1     1  4.752735     0.561547   \n",
       "4   5       1   155        2          1     2  3.890960     0.817142   \n",
       "\n",
       "        Price  Accept  \n",
       "0  230.552998       0  \n",
       "1  348.203425       0  \n",
       "2  430.462327       0  \n",
       "3  149.305433       1  \n",
       "4  165.264184       1  "
      ]
     },
     "execution_count": 3,
     "metadata": {},
     "output_type": "execute_result"
    }
   ],
   "source": [
    "training_data.head()"
   ]
  },
  {
   "cell_type": "code",
   "execution_count": 4,
   "metadata": {},
   "outputs": [
    {
     "data": {
      "text/plain": [
       "0    36484\n",
       "1    13516\n",
       "Name: Accept, dtype: int64"
      ]
     },
     "execution_count": 4,
     "metadata": {},
     "output_type": "execute_result"
    }
   ],
   "source": [
    "training_data['Accept'].value_counts()"
   ]
  },
  {
   "cell_type": "code",
   "execution_count": 5,
   "metadata": {},
   "outputs": [
    {
     "data": {
      "image/png": "[encoded data removed]",
      "text/plain": [
       "<Figure size 432x288 with 1 Axes>"
      ]
     },
     "metadata": {},
     "output_type": "display_data"
    },
    {
     "data": {
      "text/plain": [
       "<Figure size 432x288 with 0 Axes>"
      ]
     },
     "metadata": {},
     "output_type": "display_data"
    }
   ],
   "source": [
    "sns.countplot(x='Accept',data=training_data, palette='hls')\n",
    "plt.show()\n",
    "plt.savefig('count_plot')"
   ]
  },
  {
   "cell_type": "code",
   "execution_count": 6,
   "metadata": {
    "scrolled": true
   },
   "outputs": [
    {
     "data": {
      "text/html": [
       "<div>\n",
       "<style scoped>\n",
       "    .dataframe tbody tr th:only-of-type {\n",
       "        vertical-align: middle;\n",
       "    }\n",
       "\n",
       "    .dataframe tbody tr th {\n",
       "        vertical-align: top;\n",
       "    }\n",
       "\n",
       "    .dataframe thead th {\n",
       "        text-align: right;\n",
       "    }\n",
       "</style>\n",
       "<table border=\"1\" class=\"dataframe\">\n",
       "  <thead>\n",
       "    <tr style=\"text-align: right;\">\n",
       "      <th></th>\n",
       "      <th>ID</th>\n",
       "      <th>Region</th>\n",
       "      <th>Date</th>\n",
       "      <th>Weekday</th>\n",
       "      <th>Apartment</th>\n",
       "      <th>Beds</th>\n",
       "      <th>Review</th>\n",
       "      <th>Pic Quality</th>\n",
       "      <th>Price</th>\n",
       "    </tr>\n",
       "    <tr>\n",
       "      <th>Accept</th>\n",
       "      <th></th>\n",
       "      <th></th>\n",
       "      <th></th>\n",
       "      <th></th>\n",
       "      <th></th>\n",
       "      <th></th>\n",
       "      <th></th>\n",
       "      <th></th>\n",
       "      <th></th>\n",
       "    </tr>\n",
       "  </thead>\n",
       "  <tbody>\n",
       "    <tr>\n",
       "      <th>0</th>\n",
       "      <td>25003.792402</td>\n",
       "      <td>5.504057</td>\n",
       "      <td>182.335599</td>\n",
       "      <td>3.993888</td>\n",
       "      <td>0.801831</td>\n",
       "      <td>1.494134</td>\n",
       "      <td>4.510126</td>\n",
       "      <td>0.750389</td>\n",
       "      <td>333.652046</td>\n",
       "    </tr>\n",
       "    <tr>\n",
       "      <th>1</th>\n",
       "      <td>24991.612755</td>\n",
       "      <td>5.472255</td>\n",
       "      <td>184.143460</td>\n",
       "      <td>3.989716</td>\n",
       "      <td>0.801864</td>\n",
       "      <td>1.500148</td>\n",
       "      <td>4.507445</td>\n",
       "      <td>0.749916</td>\n",
       "      <td>271.915549</td>\n",
       "    </tr>\n",
       "  </tbody>\n",
       "</table>\n",
       "</div>"
      ],
      "text/plain": [
       "                  ID    Region        Date   Weekday  Apartment      Beds  \\\n",
       "Accept                                                                      \n",
       "0       25003.792402  5.504057  182.335599  3.993888   0.801831  1.494134   \n",
       "1       24991.612755  5.472255  184.143460  3.989716   0.801864  1.500148   \n",
       "\n",
       "          Review  Pic Quality       Price  \n",
       "Accept                                     \n",
       "0       4.510126     0.750389  333.652046  \n",
       "1       4.507445     0.749916  271.915549  "
      ]
     },
     "execution_count": 6,
     "metadata": {},
     "output_type": "execute_result"
    }
   ],
   "source": [
    "training_data.groupby('Accept').mean()"
   ]
  },
  {
   "cell_type": "code",
   "execution_count": 7,
   "metadata": {},
   "outputs": [
    {
     "name": "stdout",
     "output_type": "stream",
     "text": [
      "(50000, 9)\n",
      "(50000,)\n"
     ]
    }
   ],
   "source": [
    "cols=['ID', 'Region', 'Date', 'Weekday', 'Apartment', 'Beds', 'Review', 'Pic Quality', 'Price']\n",
    "X=training_data[cols]\n",
    "y=training_data['Accept']\n",
    "print(X.shape)\n",
    "print(y.shape)"
   ]
  },
  {
   "cell_type": "markdown",
   "metadata": {},
   "source": [
    "### Split the train samples to 0.75 train data and 0.25 test data"
   ]
  },
  {
   "cell_type": "code",
   "execution_count": 8,
   "metadata": {},
   "outputs": [],
   "source": [
    "X_train, X_test, y_train, y_test = train_test_split(X, y, test_size=0.25, random_state=0)"
   ]
  },
  {
   "cell_type": "markdown",
   "metadata": {},
   "source": [
    "### Neural Network Model"
   ]
  },
  {
   "cell_type": "code",
   "execution_count": 9,
   "metadata": {},
   "outputs": [
    {
     "name": "stderr",
     "output_type": "stream",
     "text": [
      "Using TensorFlow backend.\n"
     ]
    },
    {
     "name": "stdout",
     "output_type": "stream",
     "text": [
      "Epoch 1/20\n",
      "37500/37500 [==============================] - 1s 31us/step - loss: 5.4304 - acc: 0.6837\n",
      "Epoch 2/20\n",
      "37500/37500 [==============================] - 1s 15us/step - loss: 4.6095 - acc: 0.7219\n",
      "Epoch 3/20\n",
      "37500/37500 [==============================] - 1s 16us/step - loss: 4.5134 - acc: 0.7234\n",
      "Epoch 4/20\n",
      "37500/37500 [==============================] - 1s 16us/step - loss: 4.4629 - acc: 0.7251\n",
      "Epoch 5/20\n",
      "37500/37500 [==============================] - 1s 15us/step - loss: 4.4378 - acc: 0.7254\n",
      "Epoch 6/20\n",
      "37500/37500 [==============================] - 1s 16us/step - loss: 4.4663 - acc: 0.7222\n",
      "Epoch 7/20\n",
      "37500/37500 [==============================] - 1s 16us/step - loss: 4.4013 - acc: 0.7249\n",
      "Epoch 8/20\n",
      "37500/37500 [==============================] - 1s 15us/step - loss: 4.3774 - acc: 0.7244: 0s - loss: 4.3774 - acc: 0.72\n",
      "Epoch 9/20\n",
      "37500/37500 [==============================] - 1s 14us/step - loss: 4.3366 - acc: 0.7251\n",
      "Epoch 10/20\n",
      "37500/37500 [==============================] - 1s 15us/step - loss: 4.1627 - acc: 0.7162\n",
      "Epoch 11/20\n",
      "37500/37500 [==============================] - 1s 14us/step - loss: 0.7217 - acc: 0.7090\n",
      "Epoch 12/20\n",
      "37500/37500 [==============================] - 1s 15us/step - loss: 0.6601 - acc: 0.7261\n",
      "Epoch 13/20\n",
      "37500/37500 [==============================] - 1s 14us/step - loss: 0.6136 - acc: 0.7277\n",
      "Epoch 14/20\n",
      "37500/37500 [==============================] - 1s 15us/step - loss: 0.5914 - acc: 0.7299\n",
      "Epoch 15/20\n",
      "37500/37500 [==============================] - 1s 15us/step - loss: 0.5813 - acc: 0.7302\n",
      "Epoch 16/20\n",
      "37500/37500 [==============================] - 1s 16us/step - loss: 0.5827 - acc: 0.7301\n",
      "Epoch 17/20\n",
      "37500/37500 [==============================] - 1s 16us/step - loss: 0.5820 - acc: 0.7300\n",
      "Epoch 18/20\n",
      "37500/37500 [==============================] - 1s 15us/step - loss: 0.5797 - acc: 0.7302\n",
      "Epoch 19/20\n",
      "37500/37500 [==============================] - 1s 15us/step - loss: 0.5806 - acc: 0.7302\n",
      "Epoch 20/20\n",
      "37500/37500 [==============================] - 1s 14us/step - loss: 0.5815 - acc: 0.7302\n",
      "12500/12500 [==============================] - 0s 10us/step\n",
      "[0.5767546140289307, 0.7280000000190735]\n"
     ]
    }
   ],
   "source": [
    "from keras.models import Sequential\n",
    "from keras.layers import Dense, Dropout\n",
    "from keras.regularizers import l2\n",
    "\n",
    "# create a Sequential model by passing a list of layer instances to the constructor\n",
    "model = Sequential()\n",
    "\n",
    "# Add fully connected layer with a ReLU activation function and L2 regularization\n",
    "model.add(Dense(64, input_dim=9, activation='relu', kernel_regularizer=l2(0.01)))\n",
    "model.add(Dropout(0.5))\n",
    "model.add(Dense(64, activation='relu', kernel_regularizer=l2(0.01)))\n",
    "model.add(Dropout(0.5))\n",
    "\n",
    "# Add fully connected layer with a sigmoid activation function\n",
    "model.add(Dense(1, activation='sigmoid', kernel_regularizer=l2(0.01)))\n",
    "\n",
    "# Compilation\n",
    "model.compile(loss='binary_crossentropy',\n",
    "              optimizer='rmsprop',\n",
    "              metrics=['accuracy'])\n",
    "\n",
    "# Training\n",
    "model.fit(X_train, y_train, epochs=20, batch_size=128)\n",
    "score = model.evaluate(X_test, y_test, batch_size=128)\n",
    "print(score)"
   ]
  },
  {
   "cell_type": "markdown",
   "metadata": {},
   "source": [
    "### Logistic regression model fitting"
   ]
  },
  {
   "cell_type": "code",
   "execution_count": 10,
   "metadata": {},
   "outputs": [
    {
     "data": {
      "text/plain": [
       "LogisticRegression(C=1.0, class_weight=None, dual=False, fit_intercept=True,\n",
       "          intercept_scaling=1, max_iter=100, multi_class='ovr', n_jobs=1,\n",
       "          penalty='l2', random_state=None, solver='liblinear', tol=0.0001,\n",
       "          verbose=0, warm_start=False)"
      ]
     },
     "execution_count": 10,
     "metadata": {},
     "output_type": "execute_result"
    }
   ],
   "source": [
    "from sklearn.linear_model import LogisticRegression\n",
    "from sklearn import metrics\n",
    "logreg = LogisticRegression()\n",
    "logreg.fit(X_train, y_train)"
   ]
  },
  {
   "cell_type": "code",
   "execution_count": 11,
   "metadata": {},
   "outputs": [
    {
     "name": "stdout",
     "output_type": "stream",
     "text": [
      "[0 0 0 0 0 0 0 0 0 0 0 0 0 0 0 0 0 0 0 0 0 1 1 0 0 0 1 0 0 0 0 0 0 0 0 0 1\n",
      " 0 0 0 0 0 0 0 0 0 0 0 0 0]\n",
      "[[0.73487808 0.26512192]\n",
      " [0.83876604 0.16123396]\n",
      " [0.7623735  0.2376265 ]\n",
      " [0.81299264 0.18700736]\n",
      " [0.7356944  0.2643056 ]\n",
      " [0.91379494 0.08620506]\n",
      " [0.57363658 0.42636342]\n",
      " [0.60861017 0.39138983]\n",
      " [0.58731076 0.41268924]\n",
      " [0.67178701 0.32821299]\n",
      " [0.86769064 0.13230936]\n",
      " [0.86400745 0.13599255]\n",
      " [0.83914291 0.16085709]\n",
      " [0.67392085 0.32607915]\n",
      " [0.65230471 0.34769529]\n",
      " [0.77760989 0.22239011]\n",
      " [0.82782808 0.17217192]\n",
      " [0.60652009 0.39347991]\n",
      " [0.83095898 0.16904102]\n",
      " [0.65712175 0.34287825]\n",
      " [0.68735595 0.31264405]\n",
      " [0.48383492 0.51616508]\n",
      " [0.48956638 0.51043362]\n",
      " [0.82954171 0.17045829]\n",
      " [0.94034673 0.05965327]\n",
      " [0.80297384 0.19702616]\n",
      " [0.44429737 0.55570263]\n",
      " [0.69028207 0.30971793]\n",
      " [0.80605595 0.19394405]\n",
      " [0.57807331 0.42192669]\n",
      " [0.51299471 0.48700529]\n",
      " [0.82893061 0.17106939]\n",
      " [0.62309564 0.37690436]\n",
      " [0.80953116 0.19046884]\n",
      " [0.77597135 0.22402865]\n",
      " [0.6933175  0.3066825 ]\n",
      " [0.41498607 0.58501393]\n",
      " [0.60979224 0.39020776]\n",
      " [0.89768416 0.10231584]\n",
      " [0.61101604 0.38898396]\n",
      " [0.64963745 0.35036255]\n",
      " [0.67973785 0.32026215]\n",
      " [0.71810467 0.28189533]\n",
      " [0.75585548 0.24414452]\n",
      " [0.70422629 0.29577371]\n",
      " [0.81468058 0.18531942]\n",
      " [0.52950965 0.47049035]\n",
      " [0.58647178 0.41352822]\n",
      " [0.60449448 0.39550552]\n",
      " [0.84158622 0.15841378]]\n",
      "(12500, 2)\n",
      "Accuracy of logistic regression classifier on test set: 0.73\n"
     ]
    }
   ],
   "source": [
    "y_pred = logreg.predict(X_test)\n",
    "y_proba = logreg.predict_proba(X_test)\n",
    "print(y_pred[:50])\n",
    "print(y_proba[:50])\n",
    "print(y_proba.shape)\n",
    "print('Accuracy of logistic regression classifier on test set: {:.2f}'.format(logreg.score(X_test, y_test)))"
   ]
  },
  {
   "cell_type": "markdown",
   "metadata": {},
   "source": [
    "### Cross Validation"
   ]
  },
  {
   "cell_type": "code",
   "execution_count": 12,
   "metadata": {},
   "outputs": [
    {
     "name": "stdout",
     "output_type": "stream",
     "text": [
      "10-fold cross validation average accuracy: 0.733\n"
     ]
    }
   ],
   "source": [
    "from sklearn import model_selection\n",
    "from sklearn.model_selection import cross_val_score\n",
    "kfold = model_selection.KFold(n_splits=10, random_state=7)\n",
    "modelCV = LogisticRegression()\n",
    "scoring = 'accuracy'\n",
    "results = model_selection.cross_val_score(modelCV, X_train, y_train, cv=kfold, scoring=scoring)\n",
    "print(\"10-fold cross validation average accuracy: %.3f\" % (results.mean()))"
   ]
  },
  {
   "cell_type": "markdown",
   "metadata": {},
   "source": [
    "### Confustion Matrix"
   ]
  },
  {
   "cell_type": "code",
   "execution_count": 13,
   "metadata": {
    "scrolled": true
   },
   "outputs": [
    {
     "name": "stdout",
     "output_type": "stream",
     "text": [
      "[[8804  296]\n",
      " [3046  354]]\n"
     ]
    }
   ],
   "source": [
    "from sklearn.metrics import confusion_matrix\n",
    "confusion_matrix = confusion_matrix(y_test, y_pred)\n",
    "print(confusion_matrix)"
   ]
  },
  {
   "cell_type": "markdown",
   "metadata": {},
   "source": [
    "### Accuracy"
   ]
  },
  {
   "cell_type": "code",
   "execution_count": 14,
   "metadata": {},
   "outputs": [
    {
     "name": "stdout",
     "output_type": "stream",
     "text": [
      "Accuracy of logistic regression classifier on test set: 0.73\n"
     ]
    }
   ],
   "source": [
    "from sklearn.metrics import accuracy_score\n",
    "score = accuracy_score(y_test, y_pred)\n",
    "print('Accuracy of logistic regression classifier on test set: {:.2f}'.format(score))"
   ]
  },
  {
   "cell_type": "markdown",
   "metadata": {},
   "source": [
    "### Compute precision, recall, F-measure and support"
   ]
  },
  {
   "cell_type": "code",
   "execution_count": 15,
   "metadata": {},
   "outputs": [
    {
     "name": "stdout",
     "output_type": "stream",
     "text": [
      "             precision    recall  f1-score   support\n",
      "\n",
      "          0       0.74      0.97      0.84      9100\n",
      "          1       0.54      0.10      0.17      3400\n",
      "\n",
      "avg / total       0.69      0.73      0.66     12500\n",
      "\n"
     ]
    }
   ],
   "source": [
    "from sklearn.metrics import classification_report\n",
    "print(classification_report(y_test, y_pred))"
   ]
  },
  {
   "cell_type": "markdown",
   "metadata": {},
   "source": [
    "### ROC Curvefrom sklearn import metrics"
   ]
  },
  {
   "cell_type": "code",
   "execution_count": 16,
   "metadata": {},
   "outputs": [
    {
     "data": {
      "image/png": "[encoded data removed]",
      "text/plain": [
       "<Figure size 432x288 with 1 Axes>"
      ]
     },
     "metadata": {},
     "output_type": "display_data"
    }
   ],
   "source": [
    "from sklearn.metrics import roc_auc_score\n",
    "from sklearn.metrics import roc_curve\n",
    "logit_roc_auc = roc_auc_score(y_test, logreg.predict(X_test))\n",
    "fpr, tpr, thresholds = roc_curve(y_test, logreg.predict_proba(X_test)[:,1])\n",
    "plt.figure()\n",
    "plt.plot(fpr, tpr, label='Logistic Regression (area = %0.2f)' % logit_roc_auc)\n",
    "plt.plot([0, 1], [0, 1],'r--')\n",
    "plt.xlim([0.0, 1.0])\n",
    "plt.ylim([0.0, 1.05])\n",
    "plt.xlabel('False Positive Rate')\n",
    "plt.ylabel('True Positive Rate')\n",
    "plt.title('Receiver operating characteristic')\n",
    "plt.legend(loc=\"lower right\")\n",
    "plt.savefig('Log_ROC')\n",
    "plt.show()"
   ]
  },
  {
   "cell_type": "markdown",
   "metadata": {
    "collapsed": true
   },
   "source": [
    "## Testing"
   ]
  },
  {
   "cell_type": "code",
   "execution_count": 17,
   "metadata": {},
   "outputs": [
    {
     "name": "stdout",
     "output_type": "stream",
     "text": [
      "(20000, 9)\n",
      "['ID', 'Region', 'Date', 'Weekday', 'Apartment', 'Beds', 'Review', 'Pic Quality', 'Price']\n"
     ]
    }
   ],
   "source": [
    "# import testing data\n",
    "testing_data = pd.read_csv('case2_testing.csv', header=0)\n",
    "testing_data = testing_data.dropna() # Return object with labels on given axis omitted where alternately any or all of the data are missing\n",
    "print(testing_data.shape)\n",
    "print(list(testing_data.columns))\n",
    "\n",
    "# prediction\n",
    "y_pred = logreg.predict(testing_data)\n",
    "y_proba = logreg.predict_proba(testing_data)"
   ]
  },
  {
   "cell_type": "code",
   "execution_count": 18,
   "metadata": {},
   "outputs": [
    {
     "name": "stdout",
     "output_type": "stream",
     "text": [
      "(20000,)\n",
      "[0 0 0 0 0 0 0 0 0 0 0 0 0 0 0 0 0 0 0 0 0 0 0 0 0 0 1 0 0 0]\n",
      "[0.20837965 0.33139786 0.14930905 0.41471315 0.25382294 0.17851786\n",
      " 0.22259067 0.22685369 0.2166509  0.20096249 0.18730184 0.32567158\n",
      " 0.20175305 0.35784456 0.04730895 0.35158369 0.16575886 0.19981088\n",
      " 0.19419583 0.1586438  0.12420745 0.18056067 0.42509153 0.44575915\n",
      " 0.36436425 0.36777932 0.53853025 0.17002693 0.3078989  0.22374208]\n"
     ]
    }
   ],
   "source": [
    "# get the probability\n",
    "prob = y_proba[:,1]\n",
    "print(prob.shape)\n",
    "print(y_pred[:30])\n",
    "print(prob[:30])"
   ]
  },
  {
   "cell_type": "markdown",
   "metadata": {},
   "source": [
    "### Save result to csv file"
   ]
  },
  {
   "cell_type": "code",
   "execution_count": 19,
   "metadata": {},
   "outputs": [],
   "source": [
    "result = {'ID': testing_data['ID'], 'Probability': prob}\n",
    "result = pd.DataFrame(result)\n",
    "result = result.to_csv('result.csv', index=False)"
   ]
  }
 ],
 "metadata": {
  "kernelspec": {
   "display_name": "Python 3",
   "language": "python",
   "name": "python3"
  },
  "language_info": {
   "codemirror_mode": {
    "name": "ipython",
    "version": 3
   },
   "file_extension": ".py",
   "mimetype": "text/x-python",
   "name": "python",
   "nbconvert_exporter": "python",
   "pygments_lexer": "ipython3",
   "version": "3.6.4"
  },
  "widgets": {
   "state": {},
   "version": "1.1.2"
  }
 },
 "nbformat": 4,
 "nbformat_minor": 2
}
